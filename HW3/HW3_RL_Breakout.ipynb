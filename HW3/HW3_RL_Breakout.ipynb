{
 "cells": [
  {
   "cell_type": "markdown",
   "metadata": {},
   "source": [
    "# DQN for Breakout-V0"
   ]
  },
  {
   "cell_type": "markdown",
   "metadata": {},
   "source": [
    "### Import libraries and select GPU"
   ]
  },
  {
   "cell_type": "code",
   "execution_count": 1,
   "metadata": {},
   "outputs": [],
   "source": [
    "import gym\n",
    "import gym.spaces\n",
    "import numpy as np\n",
    "import matplotlib.pyplot as plt\n",
    "import tensorflow as tf\n",
    "import os\n",
    "from collections import namedtuple, deque\n",
    "import itertools\n",
    "import sys\n",
    "import random\n",
    "#SELECT GPU\n",
    "os.environ[\"CUDA_VISIBLE_DEVICES\"]= \"3\""
   ]
  },
  {
   "cell_type": "markdown",
   "metadata": {},
   "source": [
    "#### Preprocess function from tutorial"
   ]
  },
  {
   "cell_type": "code",
   "execution_count": 2,
   "metadata": {},
   "outputs": [],
   "source": [
    "def preprocess(image):\n",
    "    ''' prepro 210x160x3 uint8 frame into 6400 (80x80) 2D float array '''\n",
    "    image = image[35:195] # crop\n",
    "    image = image[::2,::2,0] # downsample by factor of 2\n",
    "    image[image == 144] = 0 # erase background (background type 1)\n",
    "    image[image == 109] = 0 # erase background (background type 2)\n",
    "    image[image != 0] = 1 # everything else just set to 1\n",
    "    return np.reshape(image.astype(np.float).ravel(), [80,80])"
   ]
  },
  {
   "cell_type": "code",
   "execution_count": 3,
   "metadata": {},
   "outputs": [],
   "source": [
    "env = gym.envs.make(\"Breakout-v0\")\n"
   ]
  },
  {
   "cell_type": "markdown",
   "metadata": {},
   "source": [
    "#### Sample image"
   ]
  },
  {
   "cell_type": "code",
   "execution_count": 4,
   "metadata": {},
   "outputs": [
    {
     "data": {
      "text/plain": [
       "<matplotlib.image.AxesImage at 0x7f8b2076b978>"
      ]
     },
     "execution_count": 4,
     "metadata": {},
     "output_type": "execute_result"
    },
    {
     "data": {
      "image/png": "[encoded data removed]",
      "text/plain": [
       "<Figure size 432x288 with 1 Axes>"
      ]
     },
     "metadata": {
      "needs_background": "light"
     },
     "output_type": "display_data"
    }
   ],
   "source": [
    "plt.figure()\n",
    "plt.imshow(env.render(mode='rgb_array'))"
   ]
  },
  {
   "cell_type": "code",
   "execution_count": 5,
   "metadata": {},
   "outputs": [
    {
     "data": {
      "text/plain": [
       "<matplotlib.image.AxesImage at 0x7f8b20701ba8>"
      ]
     },
     "execution_count": 5,
     "metadata": {},
     "output_type": "execute_result"
    },
    {
     "data": {
      "image/png": "[encoded data removed]",
      "text/plain": [
       "<Figure size 432x288 with 1 Axes>"
      ]
     },
     "metadata": {
      "needs_background": "light"
     },
     "output_type": "display_data"
    }
   ],
   "source": [
    "## Sample preprocessed image\n",
    "test_obs = env.reset()\n",
    "processed = preprocess(test_obs)\n",
    "plt.figure()\n",
    "plt.imshow(processed)"
   ]
  },
  {
   "cell_type": "code",
   "execution_count": 6,
   "metadata": {},
   "outputs": [
    {
     "data": {
      "text/plain": [
       "True"
      ]
     },
     "execution_count": 6,
     "metadata": {},
     "output_type": "execute_result"
    }
   ],
   "source": [
    "env.action_space.contains(3)"
   ]
  },
  {
   "cell_type": "code",
   "execution_count": 7,
   "metadata": {},
   "outputs": [],
   "source": [
    "# DEFINE ACTION SPACE\n",
    "poss_actions = [0,1,2,3]"
   ]
  },
  {
   "cell_type": "markdown",
   "metadata": {},
   "source": [
    "#### Basic Hyperparameters"
   ]
  },
  {
   "cell_type": "code",
   "execution_count": 8,
   "metadata": {},
   "outputs": [],
   "source": [
    "#LEARNING RATE\n",
    "learning_rate = 2e-4\n",
    "q_scope = 'q'\n",
    "target_scope = 'target_q'"
   ]
  },
  {
   "cell_type": "markdown",
   "metadata": {},
   "source": [
    "## Helper functions for the model, policy, and target update"
   ]
  },
  {
   "cell_type": "code",
   "execution_count": 9,
   "metadata": {},
   "outputs": [],
   "source": [
    "def build_model(scope):\n",
    "        \"\"\"\n",
    "        Function to build a tensorflow graph and return its components\n",
    "        \"\"\"\n",
    "        #This folder will store the summaries folder.\n",
    "        summaries_dir = \"./breakout_summaries\"\n",
    "        \n",
    "        with tf.variable_scope(scope):\n",
    "            # Placeholders for our input\n",
    "        \n",
    "            X_pl = tf.placeholder(shape=[None, 80, 80,4], dtype=tf.float32, name=\"X\")\n",
    "            # The TD target value\n",
    "            y_pl = tf.placeholder(shape=[None], dtype=tf.float32, name=\"y\")\n",
    "            # Index of selected action\n",
    "            actions_pl = tf.placeholder(shape=[None], dtype=tf.int32, name=\"actions\")\n",
    "            \n",
    "            X = X_pl\n",
    "            batch_size = tf.shape(X_pl)[0]\n",
    "            \n",
    "            # Three convolutional layers\n",
    "            conv1 = tf.contrib.layers.conv2d(\n",
    "                X, 32, 8, 2, activation_fn=tf.nn.relu)\n",
    "            conv2 = tf.contrib.layers.conv2d(\n",
    "                conv1, 64, 4, 2, activation_fn=tf.nn.relu)\n",
    "            conv3 = tf.contrib.layers.conv2d(\n",
    "                conv2, 64, 3, 1, activation_fn=tf.nn.relu)\n",
    "            # Fully connected layers - 1 hiden layer and an output layer.\n",
    "            flattened = tf.contrib.layers.flatten(conv3)\n",
    "            fc1 = tf.contrib.layers.fully_connected(flattened, 512)\n",
    "            predictions = tf.contrib.layers.fully_connected(fc1, len(poss_actions), activation_fn=None)\n",
    "\n",
    "            #Only take Q for the action we take (multiply with one hot vector)\n",
    "            action_one_hot = tf.one_hot(actions_pl, len(poss_actions), 1.0, 0.0, name='action_one_hot')\n",
    "            action_predictions = tf.reduce_sum(tf.multiply(predictions, action_one_hot), axis=1)\n",
    "            \n",
    "            # Calculate the loss\n",
    "            losses = tf.squared_difference(y_pl, action_predictions)\n",
    "            loss = tf.reduce_mean(losses)\n",
    "            # Adam optimizer to reduce MSE\n",
    "            optimizer = tf.train.AdamOptimizer(learning_rate)#, 0.99, 0.0, 1e-6)\n",
    "            train_op = optimizer.minimize(loss, global_step=tf.contrib.framework.get_global_step())\n",
    "            \n",
    "            #Summaries for tensorboard\n",
    "            summaries = tf.summary.merge([\n",
    "            tf.summary.scalar(\"loss\", loss),\n",
    "            tf.summary.histogram(\"loss_hist\", losses),\n",
    "            tf.summary.histogram(\"q_values_hist\", predictions),\n",
    "            tf.summary.scalar(\"max_q_value\", tf.reduce_max(predictions))\n",
    "            ])\n",
    "            \n",
    "            #Create summary_dir when building the model\n",
    "            if summaries_dir:\n",
    "                summary_dir = os.path.join(summaries_dir, \"summaries_{}\".format(scope))\n",
    "                if not os.path.exists(summary_dir):\n",
    "                    os.makedirs(summary_dir)\n",
    "                summary_writer = tf.summary.FileWriter(summary_dir)\n",
    "\n",
    "        return predictions, train_op, X_pl, y_pl, actions_pl, summaries, summary_writer, loss\n"
   ]
  },
  {
   "cell_type": "code",
   "execution_count": 10,
   "metadata": {},
   "outputs": [],
   "source": [
    "def copy_model_parameters(sess, estimator1_scope, estimator2_scope):\n",
    "    \"\"\"\n",
    "    Copies the model parameters of one estimator to another.\n",
    "    Args:\n",
    "      sess: Tensorflow session instance\n",
    "      estimator1_scope: Variables with this scope will be copied\n",
    "      estimator2_scope: Variables with this scope will be updated\n",
    "    \"\"\"\n",
    "    e1_params = [t for t in tf.trainable_variables() if t.name.startswith(estimator1_scope)]\n",
    "    e1_params = sorted(e1_params, key=lambda v: v.name)\n",
    "    e2_params = [t for t in tf.trainable_variables() if t.name.startswith(estimator2_scope)]\n",
    "    e2_params = sorted(e2_params, key=lambda v: v.name)\n",
    "    update_ops = []\n",
    "    for e1_v, e2_v in zip(e1_params, e2_params):\n",
    "        op = e2_v.assign(e1_v)\n",
    "        update_ops.append(op)\n",
    "    sess.run(update_ops)"
   ]
  },
  {
   "cell_type": "code",
   "execution_count": 11,
   "metadata": {},
   "outputs": [],
   "source": [
    "def make_epsilon_greedy_policy(q_predictions, q_X, nA):\n",
    "    \"\"\"\n",
    "    Creates an epsilon-greedy policy based on a given Q-function approximator and epsilon.\n",
    "    Args:\n",
    "        q_predictions: The tf node that gets q predictions for each action given a state\n",
    "        q_X: The tf node that is the input placeholder for the network (state)\n",
    "        nA: Number of actions in the environment.\n",
    "    Returns:\n",
    "        A function that takes the (sess, observation, epsilon) as an argument and returns\n",
    "        the probabilities for each action in the form of a numpy array of length nA.\n",
    "    \"\"\"\n",
    "    def policy_fn(sess, observation, epsilon):\n",
    "        A = np.ones(nA, dtype=float) * epsilon / nA\n",
    "        #q_values = estimator.predict(sess, np.expand_dims(observation, 0))[0]\n",
    "        #Get q values for the various actions\n",
    "        q_values = sess.run(q_predictions, feed_dict={q_X : np.expand_dims(observation,0)})[0]\n",
    "        best_action = np.argmax(q_values)\n",
    "        #Use the linearly decreasing explore factor for the suboptimal actions, and 1-epsilon for optimal\n",
    "        A[best_action] += (1.0 - epsilon)\n",
    "        return A\n",
    "    return policy_fn"
   ]
  },
  {
   "cell_type": "markdown",
   "metadata": {},
   "source": [
    "## DQN Function where network is trained and epsilon greedy policy updated"
   ]
  },
  {
   "cell_type": "code",
   "execution_count": 12,
   "metadata": {},
   "outputs": [],
   "source": [
    "def deep_q_learning(sess,\n",
    "                    env,\n",
    "                    q_estimator,\n",
    "                    target_estimator,\n",
    "                    num_episodes,\n",
    "                    experiment_dir,\n",
    "                    replay_memory_size=800000,\n",
    "                    replay_memory_init_size=50000,\n",
    "                    update_target_estimator_every=8000,\n",
    "                    discount_factor=0.95,\n",
    "                    epsilon_start=1.0,\n",
    "                    epsilon_end=0.05,\n",
    "                    epsilon_decay_steps=750000,\n",
    "                    batch_size=32):\n",
    "    \"\"\"\n",
    "    Q-Learning algorithm for off-policy TD control using Function Approximation.\n",
    "    Finds the optimal greedy policy while following an epsilon-greedy policy.\n",
    "    Args:\n",
    "        sess: Tensorflow Session object\n",
    "        env: OpenAI environment\n",
    "        q_estimator: tuple containing relevant nodes for the q-network\n",
    "        target_estimator: tuple containing relevant nodes for the target network\n",
    "        num_episodes: Number of episodes to train for\n",
    "        experiment_dir: Directory to save Tensorflow summaries in\n",
    "        replay_memory_size: Size of the replay memory (max number of steps)\n",
    "        replay_memory_init_size: Number of random experiences to sample when initializing \n",
    "          the replay memory.\n",
    "        update_target_estimator_every: Copy parameters from the Q estimator to the \n",
    "          target estimator every _ steps.\n",
    "        discount_factor: Lambda time discount factor (Provided for HW)\n",
    "        epsilon_start: Chance to sample a random action when taking an action.\n",
    "          Epsilon is decayed over time and this is the start value\n",
    "        epsilon_end: The final minimum value of epsilon after decaying is done\n",
    "        epsilon_decay_steps: Number of steps to decay epsilon over\n",
    "        batch_size: Size of batches to sample from the replay memory\n",
    "        \n",
    "    Returns:\n",
    "        An EpisodeStats object with two numpy arrays for episode_lengths and episode_rewards.\n",
    "    \"\"\"\n",
    "    #Store the graph nodes as variables\n",
    "    q_predictions, q_train_op, q_X, q_y, q_actions, q_summaries, q_summary_writer, q_loss = q_estimator\n",
    "    target_predictions, target_train_op, target_X, target_y, target_actions,\\\n",
    "    target_summaries, t_summary_writer, target_loss = target_estimator\n",
    "    #Transitions that will be stored in replay memory\n",
    "    Transition = namedtuple(\"Transition\", [\"state\", \"action\", \"reward\", \"next_state\", \"done\"])\n",
    "    \n",
    "    # The replay memory\n",
    "    replay_memory = []\n",
    "    \n",
    "    # Keeps track of useful statistics\n",
    "    tot_episode_rewards = []\n",
    "    tot_episode_lengths = []\n",
    "    \n",
    "    # Create directories for checkpoints and summaries\n",
    "    checkpoint_dir = os.path.join(experiment_dir, \"checkpoints\")\n",
    "    checkpoint_path = os.path.join(checkpoint_dir, \"model\")\n",
    "    \n",
    "    \n",
    "    if not os.path.exists(checkpoint_dir):\n",
    "        os.makedirs(checkpoint_dir)\n",
    " \n",
    "    saver = tf.train.Saver()\n",
    "    \n",
    "    # Load a previous checkpoint if we find one\n",
    "    latest_checkpoint = tf.train.latest_checkpoint(checkpoint_dir)\n",
    "    if latest_checkpoint:\n",
    "        print(\"Loading model checkpoint {}...\\n\".format(latest_checkpoint))\n",
    "        saver.restore(sess, latest_checkpoint)\n",
    "    \n",
    "    # Get the current time step\n",
    "    total_t = sess.run(tf.contrib.framework.get_global_step())\n",
    "    \n",
    "    # The epsilon decay schedule - LINEARLY DECREASING STEP BY STEP\n",
    "    epsilons = np.linspace(epsilon_start, epsilon_end, epsilon_decay_steps)\n",
    "    \n",
    "    # The Policy Function\n",
    "    policy = make_epsilon_greedy_policy(\n",
    "        q_predictions, q_X,\n",
    "        len(poss_actions))\n",
    "    \n",
    "    # Populate the replay memory with initial experience with existing policy and network\n",
    "    print(\"Populating replay memory...\")\n",
    "    state = env.reset()\n",
    "    state = preprocess(state)\n",
    "    \n",
    "    #WE STACK THE PAST 4 FRAMES AS THE STATE INPUT, and therefore copies of the first state for a new game.\n",
    "    state = np.stack([state] * 4, axis=2)\n",
    "    for i in range(replay_memory_init_size):\n",
    "        action_probs = policy(sess, state, epsilons[min(total_t, epsilon_decay_steps-1)])\n",
    "        action = np.random.choice(np.arange(len(action_probs)), p=action_probs)\n",
    "        next_state, reward, done, _ = env.step(poss_actions[action])\n",
    "        next_state = preprocess(next_state)\n",
    "        #Move the 4 frames forward in time.\n",
    "        next_state = np.append(state[:,:,1:], np.expand_dims(next_state, 2), axis=2)\n",
    "        replay_memory.append(Transition(state, action, reward, next_state, done))\n",
    "        if done:\n",
    "            state = env.reset()\n",
    "            state = preprocess(state)\n",
    "            state = np.stack([state] * 4, axis=2)\n",
    "        else:\n",
    "            state = next_state\n",
    "    \n",
    "    for i_episode in range(num_episodes):\n",
    "        tot_episode_rewards.append(0)\n",
    "        tot_episode_lengths.append(0)\n",
    "        q_predictions, q_train_op, q_X, q_y, q_actions, q_summaries, q_summary_writer, q_loss = q_estimator\n",
    "        target_predictions, target_train_op, target_X, target_y, target_actions,\\\n",
    "        target_summaries, t_summary_writer, target_loss = target_estimator\n",
    "        \n",
    "        # Save the current checkpoint\n",
    "        saver.save(tf.get_default_session(), checkpoint_path)\n",
    "        \n",
    "        # Reset the environment\n",
    "        state = env.reset()\n",
    "        state = preprocess(state)\n",
    "        #Stack the initial frame 4 times initially.\n",
    "        state = np.stack([state] * 4, axis=2)\n",
    "        loss = None\n",
    "        \n",
    "        # One step in the environment\n",
    "        for t in itertools.count():\n",
    "            \n",
    "            # Epsilon for this time step\n",
    "            epsilon = epsilons[min(total_t, epsilon_decay_steps-1)]\n",
    "            \n",
    "            # Add epsilon to Tensorboard\n",
    "            episode_summary = tf.Summary()\n",
    "            episode_summary.value.add(simple_value=epsilon, tag=\"epsilon\")\n",
    "            q_summary_writer.add_summary(episode_summary, total_t)\n",
    "            \n",
    "            # Update the target network every N steps\n",
    "            if total_t % update_target_estimator_every == 0:\n",
    "                copy_model_parameters(sess, q_scope, target_scope)\n",
    "                print(\"\\nCopied model parameters to target network.\")\n",
    "            \n",
    "            # Print out which step we're on, useful for debugging.\n",
    "            print(\"\\rStep {} ({}) @ Episode {}/{}, loss: {}\".format(\n",
    "                    t, total_t, i_episode + 1, num_episodes, loss), end=\"\")\n",
    "            \n",
    "            sys.stdout.flush()\n",
    "            \n",
    "            # Take a step\n",
    "            #Get action probabilities for the current state\n",
    "            action_probs = policy(sess, state, epsilon)\n",
    "            #Pick an action using this probability distribution\n",
    "            action = np.random.choice(np.arange(len(action_probs)), p=action_probs)\n",
    "            #Get next state by stepping through env.\n",
    "            next_state, reward, done, _ = env.step(poss_actions[action])\n",
    "            next_state = preprocess(next_state)\n",
    "            #Stack new frame and pop out fourth frame.\n",
    "            next_state = np.append(state[:,:,1:], np.expand_dims(next_state, 2), axis=2)\n",
    "            \n",
    "            # If our replay memory is full, pop the first element\n",
    "            if len(replay_memory) == replay_memory_size:\n",
    "                replay_memory.pop(0)\n",
    "            # Save transition to replay memory\n",
    "            replay_memory.append(Transition(state, action, reward, next_state, done))   \n",
    "            # Update statistics\n",
    "            tot_episode_rewards[i_episode] += reward\n",
    "            tot_episode_lengths[i_episode] = t\n",
    "            \n",
    "            # Sample a minibatch from the replay memory\n",
    "            samples = random.sample(replay_memory, batch_size)\n",
    "            states_batch, action_batch, reward_batch, next_states_batch, done_batch = map(np.array, zip(*samples))\n",
    "            \n",
    "            # Calculate q values and targets using the TARGET NETWORK!\n",
    "          \n",
    "            q_values_next = sess.run(target_predictions, feed_dict= {target_X: next_states_batch})\n",
    "            targets_batch = reward_batch + np.invert(done_batch).astype(np.float32) * discount_factor * np.amax(q_values_next, axis=1)\n",
    "            \n",
    "            # Perform gradient descent update for Q network\n",
    "            states_batch = np.array(states_batch)\n",
    "\n",
    "            feed_dict = { q_X: states_batch, q_y: targets_batch, q_actions: action_batch }\n",
    "            summaries, global_step, _, loss = sess.run(\n",
    "                [q_summaries, tf.contrib.framework.get_global_step(), q_train_op, q_loss],\n",
    "            feed_dict)\n",
    "            \n",
    "            #Write summaries\n",
    "            q_summary_writer.add_summary(summaries, global_step)\n",
    "            \n",
    "            if done:\n",
    "                break\n",
    "            state = next_state\n",
    "            total_t += 1\n",
    "        # Add summaries to tensorboard and flush after writing\n",
    "        episode_summary = tf.Summary()\n",
    "        episode_summary.value.add(simple_value=tot_episode_rewards[i_episode], node_name=\"episode_reward\", tag=\"episode_reward\")\n",
    "        episode_summary.value.add(simple_value=tot_episode_lengths[i_episode], node_name=\"episode_length\", tag=\"episode_length\")\n",
    "        q_summary_writer.add_summary(episode_summary, total_t)\n",
    "        q_summary_writer.flush()\n"
   ]
  },
  {
   "cell_type": "markdown",
   "metadata": {},
   "source": [
    "## Main Function to run the script"
   ]
  },
  {
   "cell_type": "code",
   "execution_count": null,
   "metadata": {},
   "outputs": [
    {
     "name": "stdout",
     "output_type": "stream",
     "text": [
      "WARNING:tensorflow:From <ipython-input-9-bd12c489730f>:41: get_global_step (from tensorflow.contrib.framework.python.ops.variables) is deprecated and will be removed in a future version.\n",
      "Instructions for updating:\n",
      "Please switch to tf.train.get_global_step\n",
      "Loading model checkpoint breakout_experiments/checkpoints/model...\n",
      "\n",
      "INFO:tensorflow:Restoring parameters from breakout_experiments/checkpoints/model\n",
      "Populating replay memory...\n",
      "Step 319 (1287999) @ Episode 10/50000, loss: 0.00492992205545306236\n",
      "Copied model parameters to target network.\n",
      "Step 374 (1295999) @ Episode 28/50000, loss: 0.00016379404405597597\n",
      "Copied model parameters to target network.\n",
      "Step 289 (1303999) @ Episode 44/50000, loss: 0.00227616727352142334\n",
      "Copied model parameters to target network.\n",
      "Step 762 (1311999) @ Episode 58/50000, loss: 0.00068362872116267683\n",
      "Copied model parameters to target network.\n",
      "Step 216 (1319999) @ Episode 72/50000, loss: 0.00080721604172140366\n",
      "Copied model parameters to target network.\n",
      "Step 708 (1327999) @ Episode 86/50000, loss: 0.00042133458191528916\n",
      "Copied model parameters to target network.\n",
      "Step 430 (1335999) @ Episode 100/50000, loss: 0.00046368606854230165\n",
      "Copied model parameters to target network.\n",
      "Step 680 (1343999) @ Episode 115/50000, loss: 0.00037102671922184527\n",
      "Copied model parameters to target network.\n",
      "Step 580 (1351999) @ Episode 129/50000, loss: 0.00033904687734320767\n",
      "Copied model parameters to target network.\n",
      "Step 243 (1359999) @ Episode 145/50000, loss: 0.00090609269682317977\n",
      "Copied model parameters to target network.\n",
      "Step 163 (1367999) @ Episode 160/50000, loss: 0.00092182098887860774\n",
      "Copied model parameters to target network.\n",
      "Step 229 (1375999) @ Episode 174/50000, loss: 0.00107586721424013385\n",
      "Copied model parameters to target network.\n",
      "Step 254 (1383999) @ Episode 188/50000, loss: 0.00109563604928553164\n",
      "Copied model parameters to target network.\n",
      "Step 103 (1391999) @ Episode 202/50000, loss: 0.00093679968267679217\n",
      "Copied model parameters to target network.\n",
      "Step 492 (1399999) @ Episode 216/50000, loss: 0.00106875598430633546\n",
      "Copied model parameters to target network.\n",
      "Step 54 (1407999) @ Episode 231/50000, loss: 0.000648620654828846576\n",
      "Copied model parameters to target network.\n",
      "Step 463 (1415999) @ Episode 245/50000, loss: 0.00063246896024793393\n",
      "Copied model parameters to target network.\n",
      "Step 360 (1423999) @ Episode 258/50000, loss: 0.00113882496953010566\n",
      "Copied model parameters to target network.\n",
      "Step 230 (1431999) @ Episode 274/50000, loss: 0.00063770165434107185\n",
      "Copied model parameters to target network.\n",
      "Step 436 (1434854) @ Episode 279/50000, loss: 0.00105116027407348163"
     ]
    }
   ],
   "source": [
    "tf.reset_default_graph()\n",
    "# Where we save our checkpoints and graphs\n",
    "experiment_dir = os.path.relpath(\"./breakout_experiments\")\n",
    "# Create a global step variable for training iteration count\n",
    "global_step = tf.Variable(0, name='global_step', trainable=False)\n",
    "    \n",
    "# Create graphs for Q and target networks and store nodes in tuples\n",
    "q_estimator = build_model(scope=\"q\")\n",
    "target_estimator = build_model(scope=\"target_q\")\n",
    "\n",
    "# Run it!\n",
    "with tf.Session() as sess:\n",
    "    #Initialize graphs\n",
    "    sess.run(tf.global_variables_initializer())\n",
    "\n",
    "    #RUN DQN\n",
    "    deep_q_learning(sess,\n",
    "                    env,\n",
    "                    q_estimator=q_estimator,\n",
    "                    target_estimator=target_estimator,\n",
    "                    experiment_dir=experiment_dir,\n",
    "                    num_episodes=50000,\n",
    "                    replay_memory_size=800000,\n",
    "                    replay_memory_init_size=50000,\n",
    "                    update_target_estimator_every=8000,\n",
    "                    epsilon_start=1.0,\n",
    "                    epsilon_end=0.1,\n",
    "                    epsilon_decay_steps=500000,\n",
    "                    discount_factor=0.95,\n",
    "                    batch_size=32)\n"
   ]
  }
 ],
 "metadata": {
  "kernelspec": {
   "display_name": "Python 3",
   "language": "python",
   "name": "python3"
  },
  "language_info": {
   "codemirror_mode": {
    "name": "ipython",
    "version": 3
   },
   "file_extension": ".py",
   "mimetype": "text/x-python",
   "name": "python",
   "nbconvert_exporter": "python",
   "pygments_lexer": "ipython3",
   "version": "3.6.6"
  }
 },
 "nbformat": 4,
 "nbformat_minor": 2
}
