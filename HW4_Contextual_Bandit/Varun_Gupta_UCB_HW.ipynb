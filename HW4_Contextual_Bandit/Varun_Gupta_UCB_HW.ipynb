{
 "cells": [
  {
   "cell_type": "markdown",
   "metadata": {},
   "source": [
    "# Contextual Bandit (UCB) - Jester Data"
   ]
  },
  {
   "cell_type": "markdown",
   "metadata": {},
   "source": [
    "### Import Libraries"
   ]
  },
  {
   "cell_type": "code",
   "execution_count": 27,
   "metadata": {},
   "outputs": [],
   "source": [
    "import numpy as np\n",
    "import tensorflow as tf\n",
    "import matplotlib.pyplot as plt\n",
    "import pandas as pd\n"
   ]
  },
  {
   "cell_type": "markdown",
   "metadata": {},
   "source": [
    "### Sample data function"
   ]
  },
  {
   "cell_type": "code",
   "execution_count": 68,
   "metadata": {},
   "outputs": [],
   "source": [
    "def sample_jester_data(file_name, context_dim = 32, num_actions = 8, num_contexts = 19181,\n",
    "shuffle_rows=True, shuffle_cols=False):\n",
    "    \"\"\"Samples bandit game from (user, joke) dense subset of Jester dataset.\n",
    "    Args:\n",
    "    file_name: Route of file containing the modified Jester dataset.\n",
    "    context_dim: Context dimension (i.e. vector with some ratings from a user).\n",
    "    num_actions: Number of actions (number of joke ratings to predict).\n",
    "    num_contexts: Number of contexts to sample.\n",
    "    shuffle_rows: If True, rows from original dataset are shuffled.\n",
    "    shuffle_cols: Whether or not context/action jokes are randomly shuffled.\n",
    "    Returns:\n",
    "    dataset: Sampled matrix with rows: (context, rating_1, ..., rating_k).\n",
    "    opt_vals: Vector of deterministic optimal (reward, action) for each context.\n",
    "    \"\"\"\n",
    "    np.random.seed(0)\n",
    "    with tf.gfile.Open(file_name, 'rb') as f:\n",
    "        dataset = np.load(f)\n",
    "    if shuffle_cols:\n",
    "        dataset = dataset[:, np.random.permutation(dataset.shape[1])]\n",
    "    if shuffle_rows:\n",
    "        np.random.shuffle(dataset)\n",
    "    dataset = dataset[:num_contexts, :]\n",
    "    assert context_dim + num_actions == dataset.shape[1], 'Wrong data dimensions.'\n",
    "\n",
    "    opt_actions = np.argmax(dataset[:, context_dim:], axis=1)\n",
    "    opt_rewards = np.array([dataset[i, context_dim + a] for i, a in enumerate(opt_actions)])\n",
    "    return dataset, opt_rewards, opt_actions"
   ]
  },
  {
   "cell_type": "markdown",
   "metadata": {},
   "source": [
    "### Load Data"
   ]
  },
  {
   "cell_type": "code",
   "execution_count": 8,
   "metadata": {},
   "outputs": [],
   "source": [
    "dataset, opt_rewards, opt_actions = sample_jester_data('jester_data_40jokes_19181users.npy')"
   ]
  },
  {
   "cell_type": "code",
   "execution_count": 10,
   "metadata": {},
   "outputs": [
    {
     "data": {
      "text/plain": [
       "(19181, 40)"
      ]
     },
     "execution_count": 10,
     "metadata": {},
     "output_type": "execute_result"
    }
   ],
   "source": [
    "dataset.shape"
   ]
  },
  {
   "cell_type": "markdown",
   "metadata": {},
   "source": [
    "### Train Algorithm"
   ]
  },
  {
   "cell_type": "code",
   "execution_count": 69,
   "metadata": {},
   "outputs": [],
   "source": [
    "n = 18181 #Remaining 1000 for test\n",
    "k = 32\n",
    "n_a = 8\n",
    "\n",
    "# D = np.random.random((n,k))-0.5\n",
    "th = np.random.random((n_a,k))-0.5\n",
    "b = np.zeros_like(th)\n",
    "A = list()\n",
    "rewards = [0] * n\n",
    "choices = [None] * n\n",
    "\n",
    "\n",
    "for a in range(0,n_a):\n",
    "    A.append(np.identity(k))\n",
    "    \n",
    "p = np.zeros(n_a)\n",
    "alph = 0.2\n",
    "th_hat = th\n",
    "    \n",
    "for i in range(0,n):\n",
    "    x_i = dataset[i][:k]\n",
    "    \n",
    "    for a in range(0,n_a):\n",
    "        \n",
    "        A_inv = np.linalg.inv(A[a])\n",
    "        th_hat[a] = A_inv.dot(b[a])\n",
    "        ta = x_i.dot(A_inv.dot(x_i))\n",
    "        a_upper_ci = alph * np.sqrt(ta)\n",
    "        a_mean = th_hat[a].dot(x_i)\n",
    "        p[a] = a_mean + a_upper_ci\n",
    "        \n",
    "    p = p+(np.random.random(len(p)) * 0.000001)\n",
    "\n",
    "    choices[i] = p.argmax()\n",
    "    \n",
    "    rewards[i] = dataset[i, k + choices[i]]\n",
    "    \n",
    "    A[choices[i]] = A[choices[i]] + np.matmul(x_i, x_i.reshape(k,1))\n",
    "    b[choices[i]] = b[choices[i]] + rewards[i] * x_i\n",
    "    \n",
    "    \n",
    "\n"
   ]
  },
  {
   "cell_type": "code",
   "execution_count": 70,
   "metadata": {},
   "outputs": [
    {
     "data": {
      "text/plain": [
       "Text(0.5,1,'Rolling average reward')"
      ]
     },
     "execution_count": 70,
     "metadata": {},
     "output_type": "execute_result"
    },
    {
     "data": {
      "image/png": "[encoded data removed]",
      "text/plain": [
       "<Figure size 432x288 with 1 Axes>"
      ]
     },
     "metadata": {
      "needs_background": "light"
     },
     "output_type": "display_data"
    }
   ],
   "source": [
    "results = pd.DataFrame(rewards)\n",
    "results.columns = ['Reward']\n",
    "results.rolling(1000).mean().plot()\n",
    "plt.title(\"Rolling average reward\")\n"
   ]
  },
  {
   "cell_type": "markdown",
   "metadata": {},
   "source": [
    "### Test UCB"
   ]
  },
  {
   "cell_type": "code",
   "execution_count": 35,
   "metadata": {},
   "outputs": [
    {
     "data": {
      "text/plain": [
       "(19181,)"
      ]
     },
     "execution_count": 35,
     "metadata": {},
     "output_type": "execute_result"
    }
   ],
   "source": [
    "opt_actions.shape"
   ]
  },
  {
   "cell_type": "code",
   "execution_count": 42,
   "metadata": {},
   "outputs": [
    {
     "data": {
      "text/plain": [
       "array([-8.2 , -6.55,  5.24,  3.88, -3.88,  0.29,  5.68, -7.86,  4.42,\n",
       "       -9.17,  4.76,  0.34, -6.17, -6.46,  1.55, -3.88,  2.72, -8.06,\n",
       "       -4.66, -0.83, -5.83,  6.8 , -1.02, -4.32,  2.38,  3.98,  2.23,\n",
       "       -7.62, -8.3 ,  2.04, -8.06, -2.04, -8.98,  1.55, -6.84, -7.38,\n",
       "       -6.17, -8.25,  7.38,  2.38])"
      ]
     },
     "execution_count": 42,
     "metadata": {},
     "output_type": "execute_result"
    }
   ],
   "source": [
    "dataset[18181]"
   ]
  },
  {
   "cell_type": "code",
   "execution_count": 49,
   "metadata": {},
   "outputs": [],
   "source": [
    "regret = []\n",
    "corr_choices = []\n",
    "test_choices = [0]*1000\n",
    "test_rewards = [0] * 1000\n",
    "for i in range(n, dataset.shape[0]):\n",
    "    x_i = dataset[i][:k] # X\n",
    "        \n",
    "    \n",
    "    \n",
    "    for a in range(0,n_a):\n",
    "        \n",
    "        A_inv = np.linalg.inv(A[a])\n",
    "        th_hat[a] = A_inv.dot(b[a])\n",
    "        ta = x_i.dot(A_inv.dot(x_i))\n",
    "        a_upper_ci = alph * np.sqrt(ta)\n",
    "        a_mean = th_hat[a].dot(x_i)\n",
    "        p[a] = a_mean + a_upper_ci\n",
    "        \n",
    "    p = p+(np.random.random(len(p)) * 0.000001)\n",
    "\n",
    "    test_choices[i - n] = p.argmax()\n",
    "    \n",
    "    test_rewards[i-n] = dataset[i, k + test_choices[i-n]]\n",
    "    regret.append(opt_rewards[i] - test_rewards[i-n])\n",
    "    corr_choices.append(int(opt_actions[i]  == test_choices[i-n]))\n",
    "    "
   ]
  },
  {
   "cell_type": "code",
   "execution_count": 53,
   "metadata": {},
   "outputs": [
    {
     "data": {
      "text/plain": [
       "0.219"
      ]
     },
     "execution_count": 53,
     "metadata": {},
     "output_type": "execute_result"
    }
   ],
   "source": [
    "# Optimal Choice proportion\n",
    "np.mean(corr_choices)"
   ]
  },
  {
   "cell_type": "code",
   "execution_count": 54,
   "metadata": {},
   "outputs": [
    {
     "data": {
      "text/plain": [
       "3.01644"
      ]
     },
     "execution_count": 54,
     "metadata": {},
     "output_type": "execute_result"
    }
   ],
   "source": [
    "# Mean Regret\n",
    "np.mean(regret)"
   ]
  },
  {
   "cell_type": "markdown",
   "metadata": {},
   "source": [
    "### Test Set Evaluation\n",
    "\n",
    "We see that the proportion of choices that are optimal is 22%, which is a significant improvement over a blind guess of 1/8 = 12.5%.\n",
    "\n",
    "The mean value for regret in the test set was 3.01."
   ]
  },
  {
   "cell_type": "code",
   "execution_count": 56,
   "metadata": {},
   "outputs": [
    {
     "data": {
      "image/png": "[encoded data removed]",
      "text/plain": [
       "<Figure size 432x288 with 1 Axes>"
      ]
     },
     "metadata": {
      "needs_background": "light"
     },
     "output_type": "display_data"
    }
   ],
   "source": [
    "plt.hist(regret)\n",
    "plt.title(\"Test Set Regret Distribution\")\n",
    "plt.xlabel(\"Regret\")\n",
    "plt.show()"
   ]
  },
  {
   "cell_type": "markdown",
   "metadata": {},
   "source": [
    "The distribution of regret is shown above"
   ]
  }
 ],
 "metadata": {
  "kernelspec": {
   "display_name": "Python 3",
   "language": "python",
   "name": "python3"
  },
  "language_info": {
   "codemirror_mode": {
    "name": "ipython",
    "version": 3
   },
   "file_extension": ".py",
   "mimetype": "text/x-python",
   "name": "python",
   "nbconvert_exporter": "python",
   "pygments_lexer": "ipython3",
   "version": "3.6.6"
  }
 },
 "nbformat": 4,
 "nbformat_minor": 2
}
